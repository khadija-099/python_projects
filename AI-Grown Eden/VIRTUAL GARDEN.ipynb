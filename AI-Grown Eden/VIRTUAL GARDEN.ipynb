{
 "cells": [
  {
   "cell_type": "markdown",
   "id": "1a35a911",
   "metadata": {},
   "source": [
    "# VIRTUAL GARDEN"
   ]
  },
  {
   "cell_type": "code",
   "execution_count": 1,
   "id": "c44139b3",
   "metadata": {},
   "outputs": [],
   "source": [
    "class Plant:\n",
    "    def __init__(self,name,harvest_yield):\n",
    "        self.name = name\n",
    "        self.harvest_yield = harvest_yield\n",
    "        self.growth_stages = [\"seed\",\"sprout\",\"mature\",\"flower\",\"fruit\",\"harvest_ready\"]\n",
    "        self.current_stage = self.growth_stages[0]\n",
    "        self.harvestable = False\n",
    "        \n",
    "    def grow(self):\n",
    "        current_index = self.growth_stages.index(self.current_stage)\n",
    "        \n",
    "        if current_index <len(self.growth_stages)-1:\n",
    "            self.current_stage = self.growth_stages[current_index + 1]\n",
    "            if self.current_stage == self.growth_stages[-1]:\n",
    "                self.harvestable = True\n",
    "            \n",
    "        elif self.current_stage == self.growth_stages[-1]:\n",
    "                print (f\"{self.name} is already fully grown\")\n",
    "                \n",
    "    def harvest(self):\n",
    "        if self.harvestable:\n",
    "            self.harvestable = False\n",
    "            return self.harvest_yield\n",
    "        else:\n",
    "            print(f\"Your {self.name} is not harvestable\")\n",
    "            \n",
    "        \n",
    "        "
   ]
  },
  {
   "cell_type": "code",
   "execution_count": 2,
   "id": "5033cb10",
   "metadata": {},
   "outputs": [],
   "source": [
    "tomato = Plant(\"tomato\", 10)"
   ]
  },
  {
   "cell_type": "code",
   "execution_count": 3,
   "id": "075dec97",
   "metadata": {},
   "outputs": [
    {
     "name": "stdout",
     "output_type": "stream",
     "text": [
      "Your tomato is not harvestable\n"
     ]
    }
   ],
   "source": [
    "tomato.harvest()"
   ]
  },
  {
   "cell_type": "code",
   "execution_count": 4,
   "id": "52ae6c31",
   "metadata": {},
   "outputs": [
    {
     "data": {
      "text/plain": [
       "'seed'"
      ]
     },
     "execution_count": 4,
     "metadata": {},
     "output_type": "execute_result"
    }
   ],
   "source": [
    "tomato.current_stage"
   ]
  },
  {
   "cell_type": "code",
   "execution_count": 5,
   "id": "0fcbe4b2",
   "metadata": {},
   "outputs": [],
   "source": [
    "tomato.grow()"
   ]
  },
  {
   "cell_type": "code",
   "execution_count": 6,
   "id": "b74fe5cf",
   "metadata": {},
   "outputs": [
    {
     "data": {
      "text/plain": [
       "'sprout'"
      ]
     },
     "execution_count": 6,
     "metadata": {},
     "output_type": "execute_result"
    }
   ],
   "source": [
    "tomato.current_stage"
   ]
  },
  {
   "cell_type": "code",
   "execution_count": 7,
   "id": "d5ee3c23",
   "metadata": {},
   "outputs": [],
   "source": [
    "tomato.grow()"
   ]
  },
  {
   "cell_type": "code",
   "execution_count": 8,
   "id": "546a2010",
   "metadata": {},
   "outputs": [
    {
     "data": {
      "text/plain": [
       "'mature'"
      ]
     },
     "execution_count": 8,
     "metadata": {},
     "output_type": "execute_result"
    }
   ],
   "source": [
    "tomato.current_stage"
   ]
  },
  {
   "cell_type": "code",
   "execution_count": 9,
   "id": "7e4f6cdf",
   "metadata": {},
   "outputs": [],
   "source": [
    "tomato.grow()"
   ]
  },
  {
   "cell_type": "code",
   "execution_count": 10,
   "id": "ff119693",
   "metadata": {},
   "outputs": [
    {
     "data": {
      "text/plain": [
       "'flower'"
      ]
     },
     "execution_count": 10,
     "metadata": {},
     "output_type": "execute_result"
    }
   ],
   "source": [
    "tomato.current_stage"
   ]
  },
  {
   "cell_type": "code",
   "execution_count": 11,
   "id": "07cc4e52",
   "metadata": {},
   "outputs": [
    {
     "data": {
      "text/plain": [
       "'fruit'"
      ]
     },
     "execution_count": 11,
     "metadata": {},
     "output_type": "execute_result"
    }
   ],
   "source": [
    "tomato.grow()\n",
    "tomato.current_stage"
   ]
  },
  {
   "cell_type": "code",
   "execution_count": 12,
   "id": "7fd49147",
   "metadata": {},
   "outputs": [
    {
     "data": {
      "text/plain": [
       "'harvest_ready'"
      ]
     },
     "execution_count": 12,
     "metadata": {},
     "output_type": "execute_result"
    }
   ],
   "source": [
    "tomato.grow()\n",
    "tomato.current_stage"
   ]
  },
  {
   "cell_type": "code",
   "execution_count": 13,
   "id": "b494590b",
   "metadata": {},
   "outputs": [
    {
     "name": "stdout",
     "output_type": "stream",
     "text": [
      "tomato is already fully grown\n"
     ]
    },
    {
     "data": {
      "text/plain": [
       "'harvest_ready'"
      ]
     },
     "execution_count": 13,
     "metadata": {},
     "output_type": "execute_result"
    }
   ],
   "source": [
    "tomato.grow()\n",
    "tomato.current_stage\n"
   ]
  },
  {
   "cell_type": "markdown",
   "id": "1b0c034a",
   "metadata": {},
   "source": [
    "# plants subclass"
   ]
  },
  {
   "cell_type": "code",
   "execution_count": 14,
   "id": "16fbe08d",
   "metadata": {},
   "outputs": [],
   "source": [
    "#class Tomato(Plant):\n",
    "    #def __init__(self,name,harvest_yield):\n",
    "        #super().__init__(name,harvest_yield)\n",
    "        \n",
    "        \n",
    "\n",
    "class Tomato(Plant):\n",
    "    def __init__(self):\n",
    "        super().__init__(\"Tomato\", 10)\n",
    "        \n",
    "        \n",
    "class Potato(Plant):\n",
    "    def __init__(self):\n",
    "        super().__init__(\"Potato\", 10) \n",
    "        self.growth_stages = [\"seed\",\"sprout\",\"mature\",\"harvest_ready\"]\n",
    "        \n",
    "        \n",
    "class Carrot(Plant):\n",
    "    def __init__(self):\n",
    "        super().__init__(\"Carrot\", 10) \n",
    "        self.growth_stages = [\"seed\",\"sprout\",\"mature\",\"harvest_ready\"]        \n",
    "    "
   ]
  },
  {
   "cell_type": "code",
   "execution_count": 15,
   "id": "c14fd3d9",
   "metadata": {},
   "outputs": [],
   "source": [
    "import random\n",
    "seeds = [\"tomato\",\"potato\",\"carrot\"]\n",
    "#random.choice(seeds)"
   ]
  },
  {
   "cell_type": "code",
   "execution_count": 16,
   "id": "bc04bb7b",
   "metadata": {},
   "outputs": [
    {
     "data": {
      "text/plain": [
       "range(0, 3)"
      ]
     },
     "execution_count": 16,
     "metadata": {},
     "output_type": "execute_result"
    }
   ],
   "source": [
    "inventory = {\"Tomato\":4, \"Potato\":9, \"Carrot\":5}\n",
    "inventory.keys()\n",
    "list(inventory.keys())\n",
    "range(len(inventory.keys()))"
   ]
  },
  {
   "cell_type": "code",
   "execution_count": 17,
   "id": "64f33fdf",
   "metadata": {},
   "outputs": [],
   "source": [
    "def select_seed(items): # here items will replace with an inventory dictionary\n",
    "    item_list = list(items.keys())\n",
    "    \n",
    "    for i in range(len(item_list)):\n",
    "        item_name = item_list[i]\n",
    "        print(f\"{i+1}. {item_name}\")\n",
    "    print()   \n",
    "    while True:\n",
    "        user_input = input(\"Select an item \")\n",
    "        try:\n",
    "            user_input = int(user_input)\n",
    "            if 0 <user_input <= len(item_list):\n",
    "                return item_list[user_input -1]\n",
    "            else:\n",
    "                print(\"Invalid Input\")\n",
    "        except:\n",
    "            print(\"Invalid Input\")"
   ]
  },
  {
   "cell_type": "code",
   "execution_count": 18,
   "id": "a3553e66",
   "metadata": {},
   "outputs": [],
   "source": [
    "class Gardener:\n",
    "    \"\"\"Represent a gardener who can plant and harvest plants.\"\"\"\n",
    "    plant_dict = {\"tomato\":Tomato, \"potato\":Potato, \"carrot\":Carrot}\n",
    "    \n",
    "    def __init__(self,name):\n",
    "        self.name = name\n",
    "        self.inventory = {}\n",
    "        self.planted_plants = []#seed name and quantity\n",
    "    \n",
    "    def get_seed(self):\n",
    "        seed = random.choice(seeds)\n",
    "        \n",
    "        if seed not in self.inventory:\n",
    "            self.inventory[seed] = 1\n",
    "        else:\n",
    "            self.inventory[seed] += 1\n",
    "        print(f\"{self.name} has found the {seed} seed.\")\n",
    "        \n",
    "    def plant(self):\n",
    "        selected_plant = select_seed(self.inventory)\n",
    "        \n",
    "        if selected_plant in self.inventory and self.inventory[selected_plant]>0:\n",
    "            self.inventory[selected_plant] -= 1\n",
    "            if self.inventory[selected_plant] ==0:\n",
    "                del self.inventory[selected_plant]\n",
    "            #selected_plant = selected_plant.lower() \n",
    "            \n",
    "            new_plant = self.plant_dict[selected_plant]()\n",
    "            self.planted_plants.append(new_plant)\n",
    "            print(f\"{self.name} has planted a {selected_plant} plant.\")\n",
    "        else:\n",
    "            print(f\"{self.name} does not have any {selected_plant} plant\")\n",
    "            \n",
    "               "
   ]
  },
  {
   "cell_type": "code",
   "execution_count": 19,
   "id": "8381f91e",
   "metadata": {},
   "outputs": [],
   "source": [
    "waqas = Gardener(\"Waqas\")"
   ]
  },
  {
   "cell_type": "code",
   "execution_count": 20,
   "id": "2895ecc4",
   "metadata": {},
   "outputs": [
    {
     "data": {
      "text/plain": [
       "'Waqas'"
      ]
     },
     "execution_count": 20,
     "metadata": {},
     "output_type": "execute_result"
    }
   ],
   "source": [
    "waqas.name"
   ]
  },
  {
   "cell_type": "code",
   "execution_count": 21,
   "id": "0454058e",
   "metadata": {},
   "outputs": [
    {
     "data": {
      "text/plain": [
       "{}"
      ]
     },
     "execution_count": 21,
     "metadata": {},
     "output_type": "execute_result"
    }
   ],
   "source": [
    "waqas.inventory"
   ]
  },
  {
   "cell_type": "code",
   "execution_count": 22,
   "id": "25197564",
   "metadata": {},
   "outputs": [
    {
     "data": {
      "text/plain": [
       "[]"
      ]
     },
     "execution_count": 22,
     "metadata": {},
     "output_type": "execute_result"
    }
   ],
   "source": [
    "waqas.planted_plants\n"
   ]
  },
  {
   "cell_type": "code",
   "execution_count": 23,
   "id": "91f09a4d",
   "metadata": {},
   "outputs": [
    {
     "name": "stdout",
     "output_type": "stream",
     "text": [
      "Waqas has found the tomato seed.\n"
     ]
    }
   ],
   "source": [
    "waqas.get_seed()"
   ]
  },
  {
   "cell_type": "code",
   "execution_count": 24,
   "id": "f3ff6638",
   "metadata": {},
   "outputs": [
    {
     "data": {
      "text/plain": [
       "{'tomato': 1}"
      ]
     },
     "execution_count": 24,
     "metadata": {},
     "output_type": "execute_result"
    }
   ],
   "source": [
    "waqas.inventory"
   ]
  },
  {
   "cell_type": "code",
   "execution_count": 25,
   "id": "3fe42810",
   "metadata": {},
   "outputs": [
    {
     "name": "stdout",
     "output_type": "stream",
     "text": [
      "Waqas has found the carrot seed.\n"
     ]
    }
   ],
   "source": [
    "waqas.get_seed()"
   ]
  },
  {
   "cell_type": "code",
   "execution_count": 26,
   "id": "da5170e1",
   "metadata": {},
   "outputs": [
    {
     "data": {
      "text/plain": [
       "{'tomato': 1, 'carrot': 1}"
      ]
     },
     "execution_count": 26,
     "metadata": {},
     "output_type": "execute_result"
    }
   ],
   "source": [
    "waqas.inventory"
   ]
  },
  {
   "cell_type": "code",
   "execution_count": 27,
   "id": "3eea2b41",
   "metadata": {},
   "outputs": [
    {
     "name": "stdout",
     "output_type": "stream",
     "text": [
      "1. tomato\n",
      "2. carrot\n",
      "\n",
      "Select an item 2\n",
      "Waqas has planted a carrot plant.\n"
     ]
    }
   ],
   "source": [
    "waqas.plant()"
   ]
  },
  {
   "cell_type": "code",
   "execution_count": 28,
   "id": "ba3b7309",
   "metadata": {},
   "outputs": [],
   "source": [
    "def select_item(items): # here items will replace with an inventory dictionary\n",
    "    if type(items) == dict:\n",
    "        item_list = list(items.keys()) # \"tomato\", \"potato\"\n",
    "    elif type(items) == list:\n",
    "        item_list = items  # Tomato(), Potato()\n",
    "    \n",
    "    for i in range(len(item_list)):\n",
    "        try:\n",
    "            item_name = item_list[i].name\n",
    "        except:\n",
    "            item_name = item_list[i]\n",
    "        print(f\"{i+1}. {item_name}\")\n",
    "        \n",
    "    print()   \n",
    "    while True:\n",
    "        user_input = input(\"Select an item \")\n",
    "        try:\n",
    "            user_input = int(user_input)\n",
    "            if 0 <user_input <= len(item_list):\n",
    "                return item_list[user_input -1]\n",
    "            else:\n",
    "                print(\"Invalid Input\")\n",
    "        except:\n",
    "            print(\"Invalid Input\")"
   ]
  },
  {
   "cell_type": "code",
   "execution_count": 29,
   "id": "8bb1c1d1",
   "metadata": {},
   "outputs": [],
   "source": [
    "class Gardener:\n",
    "    \"\"\"Represent a gardner who can plant and harvest plants.\"\"\"\n",
    "    \n",
    "    plant_dict = {\"tomato\":Tomato, \"potato\": Potato, \"carrot\": Carrot}\n",
    "    \n",
    "    def __init__(self, name):\n",
    "        self.name = name\n",
    "        self.inventory = {} # seed & harvest yield\n",
    "        self.planted_plants = []\n",
    "        \n",
    "    def get_seed(self):\n",
    "        seed = random.choice(seeds)\n",
    "        \n",
    "        if seed not in self.inventory:\n",
    "            self.inventory[seed] = 1\n",
    "        else:\n",
    "            self.inventory[seed] += 1\n",
    "            \n",
    "        print(f\"{self.name} has found the {seed} seed!\")\n",
    "        \n",
    "    def plant(self):\n",
    "        selected_plant = select_item(self.inventory) # name\n",
    "        \n",
    "        if selected_plant in self.inventory and self.inventory[selected_plant] > 0:\n",
    "            self.inventory[selected_plant] -= 1\n",
    "            if self.inventory[selected_plant] == 0:\n",
    "                del self.inventory[selected_plant]\n",
    "            new_plant = self.plant_dict[selected_plant]()\n",
    "            \n",
    "            self.planted_plants.append(new_plant)\n",
    "            print(f\"{self.name} has planted a {selected_plant} plant!\")\n",
    "            \n",
    "        else:\n",
    "            print(f\"{self.name} does not have any {selected_plant} plant!\")\n",
    "            \n",
    "    def tend(self):\n",
    "        for plant in self.planted_plants:\n",
    "            if not plant.harvestable:\n",
    "                plant.grow()\n",
    "                print(f\"{plant.name} is now on a {plant.current_stage} stage!\")\n",
    "            else:\n",
    "                print(f\"{plant.name} is ready to be harvested\")\n",
    "    def harvest(self):\n",
    "        selected_plant = select_item(self.planted_plants) # instances\n",
    "        if selected_plant.harvestable == True:\n",
    "            if selected_plant.name not in self.inventory:\n",
    "                self.inventory[selected_plant.name] = selected_plant.harvest()\n",
    "            else:\n",
    "                self.inventory[selected_plant.name] += selected_plant.harvest()\n",
    "            print(f\"You have harvested {selected_plant.name}!\")\n",
    "            self.planted_plants.remove(selected_plant)\n",
    "            \n",
    "        else:\n",
    "            print(f\"You can't harvest {selected_plant.name}!\")"
   ]
  },
  {
   "cell_type": "code",
   "execution_count": 35,
   "id": "4321e562",
   "metadata": {},
   "outputs": [],
   "source": [
    "waqas = Gardener(\"Waqas\")"
   ]
  },
  {
   "cell_type": "code",
   "execution_count": 36,
   "id": "4656a2d7",
   "metadata": {},
   "outputs": [
    {
     "name": "stdout",
     "output_type": "stream",
     "text": [
      "Waqas has found the carrot seed!\n"
     ]
    }
   ],
   "source": [
    "waqas.get_seed()"
   ]
  },
  {
   "cell_type": "code",
   "execution_count": 37,
   "id": "340e5196",
   "metadata": {},
   "outputs": [
    {
     "name": "stdout",
     "output_type": "stream",
     "text": [
      "Waqas has found the tomato seed!\n"
     ]
    }
   ],
   "source": [
    "waqas.get_seed()"
   ]
  },
  {
   "cell_type": "code",
   "execution_count": 38,
   "id": "eb02b164",
   "metadata": {},
   "outputs": [
    {
     "data": {
      "text/plain": [
       "{'carrot': 1, 'tomato': 1}"
      ]
     },
     "execution_count": 38,
     "metadata": {},
     "output_type": "execute_result"
    }
   ],
   "source": [
    "waqas.inventory"
   ]
  },
  {
   "cell_type": "code",
   "execution_count": 39,
   "id": "81627631",
   "metadata": {},
   "outputs": [
    {
     "name": "stdout",
     "output_type": "stream",
     "text": [
      "1. carrot\n",
      "2. tomato\n",
      "\n",
      "Select an item 2\n",
      "Waqas has planted a tomato plant!\n"
     ]
    }
   ],
   "source": [
    "waqas.plant()\n"
   ]
  },
  {
   "cell_type": "code",
   "execution_count": 40,
   "id": "33f87939",
   "metadata": {},
   "outputs": [
    {
     "name": "stdout",
     "output_type": "stream",
     "text": [
      "1. carrot\n",
      "\n",
      "Select an item 1\n",
      "Waqas has planted a carrot plant!\n"
     ]
    }
   ],
   "source": [
    "waqas.plant()"
   ]
  },
  {
   "cell_type": "code",
   "execution_count": 41,
   "id": "4d6c6a93",
   "metadata": {},
   "outputs": [
    {
     "data": {
      "text/plain": [
       "{}"
      ]
     },
     "execution_count": 41,
     "metadata": {},
     "output_type": "execute_result"
    }
   ],
   "source": [
    "waqas.inventory"
   ]
  },
  {
   "cell_type": "code",
   "execution_count": 42,
   "id": "8645242f",
   "metadata": {},
   "outputs": [
    {
     "name": "stdout",
     "output_type": "stream",
     "text": [
      "Tomato is now on a sprout stage!\n",
      "Carrot is now on a sprout stage!\n"
     ]
    }
   ],
   "source": [
    "waqas.tend()"
   ]
  },
  {
   "cell_type": "code",
   "execution_count": 43,
   "id": "f8f1fe9d",
   "metadata": {},
   "outputs": [
    {
     "name": "stdout",
     "output_type": "stream",
     "text": [
      "Tomato is now on a mature stage!\n",
      "Carrot is now on a mature stage!\n"
     ]
    }
   ],
   "source": [
    "waqas.tend()"
   ]
  },
  {
   "cell_type": "code",
   "execution_count": 44,
   "id": "ecf4686e",
   "metadata": {},
   "outputs": [
    {
     "name": "stdout",
     "output_type": "stream",
     "text": [
      "Tomato is now on a flower stage!\n",
      "Carrot is now on a harvest_ready stage!\n"
     ]
    }
   ],
   "source": [
    "waqas.tend()"
   ]
  },
  {
   "cell_type": "code",
   "execution_count": 45,
   "id": "79d6b77d",
   "metadata": {},
   "outputs": [
    {
     "name": "stdout",
     "output_type": "stream",
     "text": [
      "1. Tomato\n",
      "2. Carrot\n",
      "\n",
      "Select an item 2\n",
      "You have harvested Carrot!\n"
     ]
    }
   ],
   "source": [
    "waqas.harvest()"
   ]
  },
  {
   "cell_type": "code",
   "execution_count": 46,
   "id": "e4d23979",
   "metadata": {},
   "outputs": [
    {
     "name": "stdout",
     "output_type": "stream",
     "text": [
      "1. Tomato\n",
      "\n",
      "Select an item 1\n",
      "You can't harvest Tomato!\n"
     ]
    }
   ],
   "source": [
    "waqas.harvest()"
   ]
  },
  {
   "cell_type": "code",
   "execution_count": null,
   "id": "890dae7a",
   "metadata": {},
   "outputs": [],
   "source": [
    "valid_commands = ['help', 'quit', 'seed', 'plant', 'tend', 'harvest']\n",
    "print(\"Welcome to Virtual Garden!\")\n",
    "gardener_name = input(\"What is the gardener name?\")\n",
    "gardener = Gardener(gardener_name)\n",
    "print(f\"Welcome {gardener_name}!\\nType help for valid commands\")\n",
    "\n",
    "\n",
    "while True:\n",
    "    gardener_action = input(\"What do you want to do?\")\n",
    "    gardener_action = gardener_action.lower()\n",
    "    \n",
    "    if gardener_action in valid_commands:\n",
    "        if gardener_action == 'help':\n",
    "            print(\"***Available Commands***\")\n",
    "            for command in valid_commands:\n",
    "                print(command)\n",
    "                \n",
    "        elif gardener_action == 'seed':\n",
    "            gardener.get_seed()\n",
    "            \n",
    "        elif gardener_action == 'plant':\n",
    "            gardener.plant()\n",
    "            \n",
    "        elif gardener_action == 'tend':\n",
    "            gardener.tend()\n",
    "            \n",
    "        elif gardener_action == 'harvest':\n",
    "            gardener.harvest()\n",
    "            \n",
    "        elif gardener_action == 'quit':\n",
    "            print(\"THANK YOU FOR YOUR INTEREST! COME AGAIN.GOOD BYE!\")\n",
    "            break\n",
    "            \n",
    "    else:\n",
    "        print(\"Invalid Command\")\n",
    "                "
   ]
  }
 ],
 "metadata": {
  "kernelspec": {
   "display_name": "Python 3 (ipykernel)",
   "language": "python",
   "name": "python3"
  },
  "language_info": {
   "codemirror_mode": {
    "name": "ipython",
    "version": 3
   },
   "file_extension": ".py",
   "mimetype": "text/x-python",
   "name": "python",
   "nbconvert_exporter": "python",
   "pygments_lexer": "ipython3",
   "version": "3.11.9"
  }
 },
 "nbformat": 4,
 "nbformat_minor": 5
}
