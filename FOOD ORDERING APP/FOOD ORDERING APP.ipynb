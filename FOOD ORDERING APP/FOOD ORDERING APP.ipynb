{
 "cells": [
  {
   "cell_type": "code",
   "execution_count": 1,
   "id": "3be59be2-81df-4da7-8ec7-801a6fc67a94",
   "metadata": {},
   "outputs": [],
   "source": [
    "rest_name = \"Buddies Inn\""
   ]
  },
  {
   "cell_type": "code",
   "execution_count": 2,
   "id": "2349c1a9-f114-4fdc-8511-6896c6357909",
   "metadata": {},
   "outputs": [],
   "source": [
    "menu = menu = {\n",
    "    \"SKU1\": {\"name\": \"Margherita Pizza\", \"price\": 12.99},\n",
    "    \"SKU2\": {\"name\": \"Pepperoni Pizza\", \"price\": 14.99},\n",
    "    \"SKU3\": {\"name\": \"Vegetable Pizza\", \"price\": 13.49},\n",
    "    \"SKU4\": {\"name\": \"Chicken Caesar Salad\", \"price\": 11.99},\n",
    "    \"SKU5\": {\"name\": \"Greek Salad\", \"price\": 10.49},\n",
    "    \"SKU6\": {\"name\": \"Spaghetti Bolognese\", \"price\": 15.99},\n",
    "    \"SKU7\": {\"name\": \"Fettuccine Alfredo\", \"price\": 16.49},\n",
    "    \"SKU8\": {\"name\": \"Cheeseburger\", \"price\": 13.99},\n",
    "    \"SKU9\": {\"name\": \"Veggie Burger\", \"price\": 12.49},\n",
    "    \"SKU10\": {\"name\": \"Chocolate Lava Cake\", \"price\": 6.99}\n",
    "}\n"
   ]
  },
  {
   "cell_type": "code",
   "execution_count": 3,
   "id": "5db314c1-447e-4974-abe0-d95d95ad8b5c",
   "metadata": {},
   "outputs": [],
   "source": [
    "cart = {}"
   ]
  },
  {
   "cell_type": "code",
   "execution_count": 4,
   "id": "09c89e84-c8bf-4480-91af-1bbb5278fdd9",
   "metadata": {},
   "outputs": [],
   "source": [
    "actions = {\"1\": \"Add item to the cart\",\n",
    "           \"2\": \"Remove item from the cart\",\n",
    "           \"3\": \"Modify item's quantity in the cart\",\n",
    "           \"4\": \"View items in the cart\",\n",
    "           \"5\": \"Checkout\",\n",
    "           \"6\":  \"Exit\",\n",
    "          } "
   ]
  },
  {
   "cell_type": "code",
   "execution_count": 5,
   "id": "d5c5af64-1dc8-4db0-b41a-3841252c71c0",
   "metadata": {},
   "outputs": [],
   "source": [
    "gst = 0.07"
   ]
  },
  {
   "cell_type": "code",
   "execution_count": 6,
   "id": "be0f1f0f-42eb-40a5-a4b2-75fa0f464dd5",
   "metadata": {},
   "outputs": [
    {
     "data": {
      "text/plain": [
       "{'SKU1': {'name': 'Margherita Pizza', 'price': 12.99},\n",
       " 'SKU2': {'name': 'Pepperoni Pizza', 'price': 14.99},\n",
       " 'SKU3': {'name': 'Vegetable Pizza', 'price': 13.49},\n",
       " 'SKU4': {'name': 'Chicken Caesar Salad', 'price': 11.99},\n",
       " 'SKU5': {'name': 'Greek Salad', 'price': 10.49},\n",
       " 'SKU6': {'name': 'Spaghetti Bolognese', 'price': 15.99},\n",
       " 'SKU7': {'name': 'Fettuccine Alfredo', 'price': 16.49},\n",
       " 'SKU8': {'name': 'Cheeseburger', 'price': 13.99},\n",
       " 'SKU9': {'name': 'Veggie Burger', 'price': 12.49},\n",
       " 'SKU10': {'name': 'Chocolate Lava Cake', 'price': 6.99}}"
      ]
     },
     "execution_count": 6,
     "metadata": {},
     "output_type": "execute_result"
    }
   ],
   "source": [
    "menu"
   ]
  },
  {
   "cell_type": "code",
   "execution_count": 7,
   "id": "32e56583-b1d2-4e33-8b09-87dfb1ff09cf",
   "metadata": {},
   "outputs": [
    {
     "name": "stdout",
     "output_type": "stream",
     "text": [
      "(1) Margherita Pizza $12.99\n",
      "(2) Pepperoni Pizza $14.99\n",
      "(3) Vegetable Pizza $13.49\n",
      "(4) Chicken Caesar Salad $11.99\n",
      "(5) Greek Salad $10.49\n",
      "(6) Spaghetti Bolognese $15.99\n",
      "(7) Fettuccine Alfredo $16.49\n",
      "(8) Cheeseburger $13.99\n",
      "(9) Veggie Burger $12.49\n",
      "(10) Chocolate Lava Cake $6.99\n"
     ]
    }
   ],
   "source": [
    "for sku in menu:\n",
    "    stock = sku[3:]\n",
    "    name = menu[sku][\"name\"]\n",
    "    price = menu[sku][\"price\"]\n",
    "\n",
    "    print(f\"({stock}) {name} ${price}\")"
   ]
  },
  {
   "cell_type": "code",
   "execution_count": 8,
   "id": "1f4e61b3-7be3-420c-a70a-99ed6203db8d",
   "metadata": {},
   "outputs": [],
   "source": [
    "def display_menu():\n",
    "    \"\"\"display all menu item SKUs,names,prices\"\"\"\n",
    "    \n",
    "    print(\"\\n***BUDDIES INN MENU***\\n\")\n",
    "\n",
    "    for sku in menu:\n",
    "        stock = sku[3:]\n",
    "        name = menu[sku][\"name\"]\n",
    "        price = menu[sku][\"price\"]\n",
    "        \n",
    "        print(f\"({stock}) {name} ${price}\")\n",
    "    print(\"\\n\")\n",
    "\n",
    "    "
   ]
  },
  {
   "cell_type": "code",
   "execution_count": 9,
   "id": "64b816b3-ba9e-4eb5-a42e-de78a65d2ff0",
   "metadata": {},
   "outputs": [
    {
     "name": "stdout",
     "output_type": "stream",
     "text": [
      "\n",
      "***BUDDIES INN MENU***\n",
      "\n",
      "(1) Margherita Pizza $12.99\n",
      "(2) Pepperoni Pizza $14.99\n",
      "(3) Vegetable Pizza $13.49\n",
      "(4) Chicken Caesar Salad $11.99\n",
      "(5) Greek Salad $10.49\n",
      "(6) Spaghetti Bolognese $15.99\n",
      "(7) Fettuccine Alfredo $16.49\n",
      "(8) Cheeseburger $13.99\n",
      "(9) Veggie Burger $12.49\n",
      "(10) Chocolate Lava Cake $6.99\n",
      "\n",
      "\n"
     ]
    }
   ],
   "source": [
    "display_menu()"
   ]
  },
  {
   "cell_type": "code",
   "execution_count": 10,
   "id": "2f840f6d-ec8a-4dd5-a137-a741b1014c63",
   "metadata": {},
   "outputs": [],
   "source": [
    "def add_to_cart(sku, quantity=1):\n",
    "    \"\"\" \n",
    "    Add an item and its quantity to the cart\n",
    "    ;param1 string sku: the input sku number being ordered\n",
    "    ;param2 int quantity : the input quantity being added\n",
    "    \"\"\"\n",
    "    if sku in menu:\n",
    "        if sku in cart:\n",
    "            cart[sku] += quantity\n",
    "        else:\n",
    "            cart[sku] = quantity\n",
    "            print(f\"Added {quantity} {menu[sku][\"name\"]} in your cart.\")\n",
    "\n",
    "    else:\n",
    "        print(\"Sorry!Ordered item is not available in the menu\")\n",
    "\n"
   ]
  },
  {
   "cell_type": "code",
   "execution_count": 11,
   "id": "8f3a3f13-91b0-4a0e-9059-514fc3e54e7e",
   "metadata": {},
   "outputs": [
    {
     "name": "stdout",
     "output_type": "stream",
     "text": [
      "Added 1 Vegetable Pizza in your cart.\n"
     ]
    }
   ],
   "source": [
    " add_to_cart(\"SKU3\")"
   ]
  },
  {
   "cell_type": "code",
   "execution_count": 12,
   "id": "5a2517c3-307c-4bf5-8bce-0f573d7ae8eb",
   "metadata": {},
   "outputs": [
    {
     "data": {
      "text/plain": [
       "{'SKU3': 1}"
      ]
     },
     "execution_count": 12,
     "metadata": {},
     "output_type": "execute_result"
    }
   ],
   "source": [
    "cart"
   ]
  },
  {
   "cell_type": "code",
   "execution_count": 13,
   "id": "ab078ef7-330d-4514-9a21-28f46df33f23",
   "metadata": {},
   "outputs": [],
   "source": [
    "removed_item = \"SKU3\"\n",
    "def remove_from_cart(sku):\n",
    "    \"\"\"\n",
    "    Remove an item from te cart\n",
    "    ;param string sku: The input sku number to be removed from thre cart.\n",
    "    \"\"\" \n",
    "    if sku in cart:\n",
    "        removed_val = cart.pop(sku)\n",
    "        print(f\"Removed {menu[sku][\"name\"]} from the cart.\")\n",
    "    else:\n",
    "        print(\"Sorry! This item is not available in the cart\")\n",
    "    "
   ]
  },
  {
   "cell_type": "code",
   "execution_count": 14,
   "id": "bb6e10af-204e-4543-b334-b2ec8983257f",
   "metadata": {},
   "outputs": [
    {
     "name": "stdout",
     "output_type": "stream",
     "text": [
      "Removed Vegetable Pizza from the cart.\n"
     ]
    }
   ],
   "source": [
    "remove_from_cart(\"SKU3\")"
   ]
  },
  {
   "cell_type": "code",
   "execution_count": 15,
   "id": "4a7aee90-0c49-4e0e-8db2-8faddc74553e",
   "metadata": {},
   "outputs": [
    {
     "data": {
      "text/plain": [
       "{}"
      ]
     },
     "execution_count": 15,
     "metadata": {},
     "output_type": "execute_result"
    }
   ],
   "source": [
    "cart"
   ]
  },
  {
   "cell_type": "code",
   "execution_count": 16,
   "id": "d5780007-daeb-414a-a9f2-e0117361c00c",
   "metadata": {},
   "outputs": [],
   "source": [
    "def modify_cart(sku , quantity):\n",
    "    \"\"\"\n",
    "    modify an item's quantity in the cart\n",
    "    ;param1 string sku: the input sku number being ordered\n",
    "    ;param2 int quantity: the input new quantity to be modified for sku\n",
    "    \"\"\"\n",
    "    if sku in cart:\n",
    "        if quantity > 0:\n",
    "            cart[sku] = quantity\n",
    "            print(f\"Modified {menu[sku][\"name\"]}'s quantity to {quantity}\")\n",
    "\n",
    "        else:\n",
    "            remove_from_cart(sku)\n",
    "\n",
    "    else:\n",
    "        print(\"Sorry!This item is not available in the cart\")\n",
    "            \n",
    "        "
   ]
  },
  {
   "cell_type": "code",
   "execution_count": 17,
   "id": "0ba1d35d-43b9-4ad0-9bb8-3532abffb87c",
   "metadata": {},
   "outputs": [
    {
     "name": "stdout",
     "output_type": "stream",
     "text": [
      "Sorry!This item is not available in the cart\n"
     ]
    }
   ],
   "source": [
    "modify_cart(\"SKU5\",3)"
   ]
  },
  {
   "cell_type": "code",
   "execution_count": 18,
   "id": "f355fdff-548a-4dc7-a1fd-295e5e6d2bcc",
   "metadata": {},
   "outputs": [
    {
     "name": "stdout",
     "output_type": "stream",
     "text": [
      "Sorry!This item is not available in the cart\n"
     ]
    }
   ],
   "source": [
    "modify_cart(\"SKU10\",5)"
   ]
  },
  {
   "cell_type": "code",
   "execution_count": 19,
   "id": "ebdfc678-e2fb-4b06-9b54-c27e7bc5dd56",
   "metadata": {},
   "outputs": [
    {
     "data": {
      "text/plain": [
       "{}"
      ]
     },
     "execution_count": 19,
     "metadata": {},
     "output_type": "execute_result"
    }
   ],
   "source": [
    "cart"
   ]
  },
  {
   "cell_type": "code",
   "execution_count": 20,
   "id": "85655d8f-9012-4bab-b122-545b8ac5707a",
   "metadata": {},
   "outputs": [
    {
     "name": "stdout",
     "output_type": "stream",
     "text": [
      "total: $  0.00\n",
      "\n",
      "\n"
     ]
    }
   ],
   "source": [
    "subtotal = 0\n",
    "for sku in cart:\n",
    "    quantity = cart[sku]\n",
    "    price = menu[sku][\"price\"]\n",
    "\n",
    "\n",
    "    subtotal += quantity*price\n",
    "    \n",
    "    print (f\"{quantity} * {menu[sku][\"name\"]}\")\n",
    "\n",
    "tax = subtotal*gst\n",
    "total = subtotal+tax\n",
    "print(f\"total: $ {total: .2f}\")\n",
    "print(\"\\n\")"
   ]
  },
  {
   "cell_type": "code",
   "execution_count": 21,
   "id": "3f890234-24cf-422f-ab64-0d51deab7319",
   "metadata": {},
   "outputs": [],
   "source": [
    "def view_cart():\n",
    "    \"\"\"\n",
    "    Display the menu, names, quantity and total amount.\n",
    "    \"\"\"\n",
    "    print(\"\\n***YOUR ORDER***\\n\")\n",
    "    \n",
    "    subtotal = 0\n",
    "    for sku in cart:\n",
    "        quantity = cart[sku]\n",
    "        price = menu[sku][\"price\"]\n",
    "        subtotal+= quantity*price\n",
    "        \n",
    "        print (f\"{quantity} * {menu[sku][\"name\"]}\")\n",
    "        \n",
    "\n",
    "    tax = subtotal*gst\n",
    "    total = subtotal+tax\n",
    "    print(f\"total: $ {total: .2f}\")\n",
    "    print(\"\\n\")\n",
    "    "
   ]
  },
  {
   "cell_type": "code",
   "execution_count": 22,
   "id": "7ae476bc-219b-426f-a8cb-0efd63e4b3b1",
   "metadata": {},
   "outputs": [
    {
     "name": "stdout",
     "output_type": "stream",
     "text": [
      "\n",
      "***YOUR ORDER***\n",
      "\n",
      "total: $  0.00\n",
      "\n",
      "\n"
     ]
    }
   ],
   "source": [
    "view_cart()"
   ]
  },
  {
   "cell_type": "code",
   "execution_count": 23,
   "id": "7b3eb446-8864-4b65-9457-3bea1323dfbd",
   "metadata": {},
   "outputs": [],
   "source": [
    "def checkout():\n",
    "    \"\"\"\n",
    "    Dispaly the subtotal info for the user to checkout\n",
    "    \"\"\"\n",
    "    print(\"\\n***CHECKOUT***\\n\")\n",
    "    view_cart()\n",
    "    print(\"THANK YOU FOR THE ORDER! GOODBYE!\")\n",
    "    print(\"\\n\")\n",
    "    "
   ]
  },
  {
   "cell_type": "code",
   "execution_count": 24,
   "id": "f8d15164-2443-4a45-b445-3fcc325b6d88",
   "metadata": {},
   "outputs": [
    {
     "name": "stdout",
     "output_type": "stream",
     "text": [
      "\n",
      "***CHECKOUT***\n",
      "\n",
      "\n",
      "***YOUR ORDER***\n",
      "\n",
      "total: $  0.00\n",
      "\n",
      "\n",
      "THANK YOU FOR THE ORDER! GOODBYE!\n",
      "\n",
      "\n"
     ]
    }
   ],
   "source": [
    "checkout()"
   ]
  },
  {
   "cell_type": "code",
   "execution_count": 25,
   "id": "c9575c96-6ba9-4f56-88dc-3bdcb74442c8",
   "metadata": {},
   "outputs": [
    {
     "name": "stdout",
     "output_type": "stream",
     "text": [
      "1\n",
      "2\n",
      "3\n",
      "4\n",
      "5\n",
      "6\n"
     ]
    }
   ],
   "source": [
    "for action in actions:\n",
    "    print(action)"
   ]
  },
  {
   "cell_type": "code",
   "execution_count": 26,
   "id": "3e57376d-0c77-435b-822e-e30053b7a23a",
   "metadata": {},
   "outputs": [
    {
     "name": "stdout",
     "output_type": "stream",
     "text": [
      "Add item to the cart\n",
      "Remove item from the cart\n",
      "Modify item's quantity in the cart\n",
      "View items in the cart\n",
      "Checkout\n",
      "Exit\n"
     ]
    }
   ],
   "source": [
    "for action in actions:\n",
    "    details = actions[action]\n",
    "    print(details)"
   ]
  },
  {
   "cell_type": "code",
   "execution_count": 27,
   "id": "0b44818d-9a75-4107-9805-f1d05bf52efa",
   "metadata": {},
   "outputs": [],
   "source": [
    "def cust_actions():\n",
    "    print(\"\\n***PLEASE CHOOSE YOUR OPTIONS***\\n\")\n",
    "    for action in actions:\n",
    "        details = actions[action]\n",
    "        print(f\"({action}) {details}\")\n",
    "        \n",
    "    "
   ]
  },
  {
   "cell_type": "code",
   "execution_count": 28,
   "id": "035128c8-59aa-4f5c-ae12-e4a37082623b",
   "metadata": {},
   "outputs": [
    {
     "name": "stdout",
     "output_type": "stream",
     "text": [
      "\n",
      "***PLEASE CHOOSE YOUR OPTIONS***\n",
      "\n",
      "(1) Add item to the cart\n",
      "(2) Remove item from the cart\n",
      "(3) Modify item's quantity in the cart\n",
      "(4) View items in the cart\n",
      "(5) Checkout\n",
      "(6) Exit\n"
     ]
    }
   ],
   "source": [
    "cust_actions()"
   ]
  },
  {
   "cell_type": "code",
   "execution_count": 29,
   "id": "3993f673-b733-40ec-91f3-ecd2cba5c901",
   "metadata": {},
   "outputs": [],
   "source": [
    "def order():\n",
    "    \"\"\"\n",
    "    it wil take order from the customers\n",
    "    \"\"\"\n",
    "    ordering = True\n",
    "    while ordering:\n",
    "        cust_actions()\n",
    "        break"
   ]
  },
  {
   "cell_type": "code",
   "execution_count": 30,
   "id": "e559e008-a84f-4820-aae1-e73160a8f093",
   "metadata": {},
   "outputs": [
    {
     "name": "stdout",
     "output_type": "stream",
     "text": [
      "\n",
      "***PLEASE CHOOSE YOUR OPTIONS***\n",
      "\n",
      "(1) Add item to the cart\n",
      "(2) Remove item from the cart\n",
      "(3) Modify item's quantity in the cart\n",
      "(4) View items in the cart\n",
      "(5) Checkout\n",
      "(6) Exit\n"
     ]
    }
   ],
   "source": [
    "order()"
   ]
  },
  {
   "cell_type": "code",
   "execution_count": 31,
   "id": "8eab4ec8-b1fc-4e99-8bd9-da7ba19bab9e",
   "metadata": {},
   "outputs": [],
   "source": [
    "sku_prompt = \"Please enter the meal number for the menu item you want to order: \"\n",
    "quantity_prompt = \"Please enter the quantity number for the menu item you want to order[deafault 1]: \"\n",
    "\n",
    "def get_sku_and_quantity(sku_prompt, quantity_prompt):\n",
    "    sku_num = input(sku_prompt)\n",
    "    sku = \"SKU\" + sku_num\n",
    "    \n",
    "    qty = input(quantity_prompt)\n",
    "    if not qty.isdigit():\n",
    "        qty = 1\n",
    "    else:\n",
    "        qty = int(qty)\n",
    "    \n",
    "    return sku, qty\n",
    " "
   ]
  },
  {
   "cell_type": "code",
   "execution_count": 32,
   "id": "d410bf1a-9f21-4928-9ca9-c24e7ae2b6a0",
   "metadata": {},
   "outputs": [
    {
     "name": "stdin",
     "output_type": "stream",
     "text": [
      "Please enter the meal number for the menu item you want to order:  2\n",
      "Please enter the quantity number for the menu item you want to order[deafault 1]:  3\n"
     ]
    },
    {
     "data": {
      "text/plain": [
       "('SKU2', 3)"
      ]
     },
     "execution_count": 32,
     "metadata": {},
     "output_type": "execute_result"
    }
   ],
   "source": [
    "get_sku_and_quantity(sku_prompt,quantity_prompt)"
   ]
  },
  {
   "cell_type": "code",
   "execution_count": 33,
   "id": "b7cbb3a7-c2da-4a55-9da7-7f4fdb8381fe",
   "metadata": {},
   "outputs": [],
   "source": [
    "def order():\n",
    "    \"\"\"\n",
    "    it wil take orde\n",
    "    ordering = Truer from the customers\n",
    "    \"\"\"\n",
    "    ordering = True\n",
    "    while ordering:\n",
    "        cust_actions()\n",
    "        response = input(\"Enter the desired option: \")\n",
    "        if response == \"1\":\n",
    "            display_menu()\n",
    "            sku ,quantity = get_sku_and_quantity(sku_prompt,quantity_prompt)\n",
    "            add_to_cart(sku ,quantity)\n",
    "            break"
   ]
  },
  {
   "cell_type": "code",
   "execution_count": 34,
   "id": "5342f7df-62ff-47b7-82be-7be3a7f65d1b",
   "metadata": {},
   "outputs": [
    {
     "name": "stdout",
     "output_type": "stream",
     "text": [
      "\n",
      "***PLEASE CHOOSE YOUR OPTIONS***\n",
      "\n",
      "(1) Add item to the cart\n",
      "(2) Remove item from the cart\n",
      "(3) Modify item's quantity in the cart\n",
      "(4) View items in the cart\n",
      "(5) Checkout\n",
      "(6) Exit\n"
     ]
    },
    {
     "name": "stdin",
     "output_type": "stream",
     "text": [
      "Enter the desired option:  1\n"
     ]
    },
    {
     "name": "stdout",
     "output_type": "stream",
     "text": [
      "\n",
      "***BUDDIES INN MENU***\n",
      "\n",
      "(1) Margherita Pizza $12.99\n",
      "(2) Pepperoni Pizza $14.99\n",
      "(3) Vegetable Pizza $13.49\n",
      "(4) Chicken Caesar Salad $11.99\n",
      "(5) Greek Salad $10.49\n",
      "(6) Spaghetti Bolognese $15.99\n",
      "(7) Fettuccine Alfredo $16.49\n",
      "(8) Cheeseburger $13.99\n",
      "(9) Veggie Burger $12.49\n",
      "(10) Chocolate Lava Cake $6.99\n",
      "\n",
      "\n"
     ]
    },
    {
     "name": "stdin",
     "output_type": "stream",
     "text": [
      "Please enter the meal number for the menu item you want to order:  5\n",
      "Please enter the quantity number for the menu item you want to order[deafault 1]:  4\n"
     ]
    },
    {
     "name": "stdout",
     "output_type": "stream",
     "text": [
      "Added 4 Greek Salad in your cart.\n"
     ]
    }
   ],
   "source": [
    "order()"
   ]
  },
  {
   "cell_type": "code",
   "execution_count": 35,
   "id": "22f751c2-ac94-43f7-8ed1-3c6af8dcefeb",
   "metadata": {},
   "outputs": [
    {
     "data": {
      "text/plain": [
       "{'SKU5': 4}"
      ]
     },
     "execution_count": 35,
     "metadata": {},
     "output_type": "execute_result"
    }
   ],
   "source": [
    "cart"
   ]
  },
  {
   "cell_type": "code",
   "execution_count": 79,
   "id": "f5272435-3006-430a-8dfc-16338fa266ad",
   "metadata": {},
   "outputs": [],
   "source": [
    "def get_sku_and_quantity(sku_prompt,quantity_prompt = None):\n",
    "    sku_num  =input(sku_prompt)\n",
    "    sku = \"SKU\"+sku_num\n",
    "    if quantity:\n",
    "        qty=input(quantity_prompt)\n",
    "        if not quantity.isdigit():\n",
    "            qty = 1\n",
    "        else:\n",
    "            qty= int(qty)\n",
    "            return sku,quantity\n",
    "    else:\n",
    "        return sku\n",
    "        "
   ]
  },
  {
   "cell_type": "code",
   "execution_count": 80,
   "id": "16940e2e-1811-4217-be49-bbc68cf4a6d8",
   "metadata": {},
   "outputs": [],
   "source": [
    "def order():\n",
    "    \"\"\"\n",
    "    it will take order from the customers\n",
    "    \"\"\"\n",
    "    ordering =True\n",
    "    while ordering:\n",
    "        cust_actions()\n",
    "        response = input(\"Enter the desired option: \")\n",
    "        if response == \"1\":\n",
    "            display_menu()\n",
    "            sku_prompt = \"Please enter the meal number for the menu item you want to order: \"\n",
    "            quantity_prompt = \"Please enter the quantity number for the menu item you want to order[Default 1]: \"\n",
    "            sku,quantity = get_sku_and_quantity(sku_prompt, quantity_prompt)\n",
    "            print(\"\\n\")\n",
    "            add_to_cart(sku,quantity)\n",
    "            \n",
    "        elif response == \"2\":\n",
    "            dispay_menu()\n",
    "            sku_prompt = \"Please enter the meal number for the menu item you want to order: \"\n",
    "            quantity_prompt = \"Please enter the quantity for the menu item you want to order[Default 1]: \"\n",
    "            sku = get_sku_and_qauntity(sku_prompt)\n",
    "            remove_from_cart(sku)\n",
    "            break\n",
    "            \n",
    "                "
   ]
  },
  {
   "cell_type": "code",
   "execution_count": 83,
   "id": "3dfab7a4-600c-4ad8-8777-b5188f133cf7",
   "metadata": {},
   "outputs": [],
   "source": [
    "def order():\n",
    "    \"\"\"\n",
    "    it will take order from the customers\n",
    "    \"\"\"\n",
    "    ordering =True\n",
    "    while ordering:\n",
    "        cust_actions()\n",
    "        response = input(\"Enter the desired option: \")\n",
    "        if response == \"1\":\n",
    "            display_menu()\n",
    "            sku_prompt = \"Please enter the meal number for the menu item you want to order: \"\n",
    "            quantity_prompt = \"Please enter the quantity number for the menu item you want to order[Default 1]: \"\n",
    "            sku,quantity = get_sku_and_quantity(sku_prompt, quantity_prompt)\n",
    "            print(\"\\n\")\n",
    "            add_to_cart(sku,quantity)\n",
    "            \n",
    "        elif response == \"2\":\n",
    "            dispay_menu()\n",
    "            sku_prompt = \"Please enter the meal number for the menu item you want to order: \"\n",
    "            quantity_prompt = \"Please enter the quantity for the menu item you want to order[Default 1]: \"\n",
    "            sku = get_sku_and_qauntity(sku_prompt)\n",
    "            remove_from_cart(sku)\n",
    "            break\n",
    "\n",
    "        elif response == \"3\":\n",
    "            display_menu()\n",
    "            sku_prompt = \"Please enter the meal number for the menu item you want to order: \"\n",
    "            quantity_prompt = \"Please enter the quantity for the menu item you want to order[Default 1]: \"\n",
    "            sku,quantity = get_sku_and_quantity(sku_prompt,quantity_prompt)\n",
    "            modify_cart(sku,quantity)\n",
    "        \n",
    "        elif response == \"4\":\n",
    "            view_cart()\n",
    "         \n",
    "        elif response == \"5\":\n",
    "            checkout()\n",
    "            ordering = False\n",
    "        \n",
    "        elif response == \"6\":\n",
    "            print(\"THANKS FOR COMING!\")\n",
    "            ordering = False\n",
    "        \n",
    "        else:\n",
    "            print(\"Sorry!You have entered the invalid option. Please try again.\")\n",
    "            \n",
    "        \n",
    "\n",
    "\n",
    "        \n",
    "\n",
    "\n",
    "        \n",
    "            "
   ]
  },
  {
   "cell_type": "code",
   "execution_count": null,
   "id": "f7d2cf72-8fcb-4ffb-83d9-74b4e5cc1bba",
   "metadata": {},
   "outputs": [],
   "source": []
  },
  {
   "cell_type": "code",
   "execution_count": null,
   "id": "2727e1c4-aac8-497f-a78f-28e3f8f113c8",
   "metadata": {},
   "outputs": [],
   "source": []
  }
 ],
 "metadata": {
  "kernelspec": {
   "display_name": "Python 3 (ipykernel)",
   "language": "python",
   "name": "python3"
  },
  "language_info": {
   "codemirror_mode": {
    "name": "ipython",
    "version": 3
   },
   "file_extension": ".py",
   "mimetype": "text/x-python",
   "name": "python",
   "nbconvert_exporter": "python",
   "pygments_lexer": "ipython3",
   "version": "3.12.4"
  }
 },
 "nbformat": 4,
 "nbformat_minor": 5
}
